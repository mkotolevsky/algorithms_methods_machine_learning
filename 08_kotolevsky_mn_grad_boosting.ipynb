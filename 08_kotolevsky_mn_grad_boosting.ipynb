{
 "cells": [
  {
   "cell_type": "markdown",
   "metadata": {},
   "source": [
    "# Градиентный бустинг своими руками\n",
    "\n",
    "**Внимание:** в тексте задания произошли изменения - поменялось число деревьев (теперь 50), правило изменения величины шага в задании 3 и добавился параметр `random_state` у решающего дерева. Правильные ответы не поменялись, но теперь их проще получить. Также исправлена опечатка в функции `gbm_predict`.\n",
    "\n",
    "В этом задании будет использоваться датасет `boston` из `sklearn.datasets`. Оставьте последние 25% объектов для контроля качества, разделив `X` и `y` на `X_train`, `y_train` и `X_test`, `y_test`.\n",
    "\n",
    "Целью задания будет реализовать простой вариант градиентного бустинга над регрессионными деревьями для случая квадратичной функции потерь."
   ]
  },
  {
   "cell_type": "code",
   "execution_count": 1,
   "metadata": {},
   "outputs": [],
   "source": [
    "from sklearn import datasets, tree, ensemble\n",
    "from sklearn.model_selection import train_test_split\n",
    "from sklearn.metrics import mean_squared_error\n",
    "from sklearn.linear_model import LinearRegression\n",
    "import numpy as np"
   ]
  },
  {
   "cell_type": "code",
   "execution_count": 3,
   "metadata": {},
   "outputs": [],
   "source": [
    "boston = datasets.load_boston()\n",
    "X, y = boston.data, boston.target\n",
    "\n",
    "X_train=X[:380]\n",
    "X_test=X[380:]\n",
    "y_train=y[:380]\n",
    "y_test=y[380:]"
   ]
  },
  {
   "cell_type": "markdown",
   "metadata": {},
   "source": [
    "## Задание 1\n",
    "\n",
    "Как вы уже знаете из лекций, **бустинг** - это метод построения композиций базовых алгоритмов с помощью последовательного добавления к текущей композиции нового алгоритма с некоторым коэффициентом. \n",
    "\n",
    "Градиентный бустинг обучает каждый новый алгоритм так, чтобы он приближал антиградиент ошибки по ответам композиции на обучающей выборке. Аналогично минимизации функций методом градиентного спуска, в градиентном бустинге мы подправляем композицию, изменяя алгоритм в направлении антиградиента ошибки.\n",
    "\n",
    "Воспользуйтесь формулой из лекций, задающей ответы на обучающей выборке, на которые нужно обучать новый алгоритм (фактически это лишь чуть более подробно расписанный градиент от ошибки), и получите частный ее случай, если функция потерь `L` - квадрат отклонения ответа композиции `a(x)` от правильного ответа `y` на данном `x`.\n",
    "\n",
    "Если вы давно не считали производную самостоятельно, вам поможет таблица производных элементарных функций (которую несложно найти в интернете) и правило дифференцирования сложной функции. После дифференцирования квадрата у вас возникнет множитель 2 — т.к. нам все равно предстоит выбирать коэффициент, с которым будет добавлен новый базовый алгоритм, проигноируйте этот множитель при дальнейшем построении алгоритма."
   ]
  },
  {
   "cell_type": "code",
   "execution_count": 4,
   "metadata": {},
   "outputs": [],
   "source": [
    "def L(y, z):\n",
    "    return z - y"
   ]
  },
  {
   "cell_type": "markdown",
   "metadata": {},
   "source": [
    "## Задание 2\n",
    "\n",
    "Заведите массив для объектов `DecisionTreeRegressor` (будем их использовать в качестве базовых алгоритмов) и для вещественных чисел (это будут коэффициенты перед базовыми алгоритмами). \n",
    "\n",
    "В цикле от обучите последовательно 50 решающих деревьев с параметрами `max_depth=5` и `random_state=42` (остальные параметры - по умолчанию). В бустинге зачастую используются сотни и тысячи деревьев, но мы ограничимся 50, чтобы алгоритм работал быстрее, и его было проще отлаживать (т.к. цель задания разобраться, как работает метод). Каждое дерево должно обучаться на одном и том же множестве объектов, но ответы, которые учится прогнозировать дерево, будут меняться в соответствие с полученным в задании 1 правилом. \n",
    "\n",
    "Попробуйте для начала всегда брать коэффициент равным 0.9. Обычно оправдано выбирать коэффициент значительно меньшим - порядка 0.05 или 0.1, но т.к. в нашем учебном примере на стандартном датасете будет всего 50 деревьев, возьмем для начала шаг побольше.\n",
    "\n",
    "В процессе реализации обучения вам потребуется функция, которая будет вычислять прогноз построенной на данный момент композиции деревьев на выборке `X`:\n",
    "\n",
    "```\n",
    "def gbm_predict(X):\n",
    "    return [sum([coeff * algo.predict([x])[0] for algo, coeff in zip(base_algorithms_list, coefficients_list)]) for x in X]\n",
    "(считаем, что base_algorithms_list - список с базовыми алгоритмами, coefficients_list - список с коэффициентами перед алгоритмами)\n",
    "```\n",
    "\n",
    "Эта же функция поможет вам получить прогноз на контрольной выборке и оценить качество работы вашего алгоритма с помощью `mean_squared_error` в `sklearn.metrics`. \n",
    "\n",
    "Возведите результат в степень 0.5, чтобы получить `RMSE`. Полученное значение `RMSE` — **ответ в пункте 2**."
   ]
  },
  {
   "cell_type": "code",
   "execution_count": 5,
   "metadata": {},
   "outputs": [],
   "source": [
    "n_trees = range(50)\n",
    "base_algorithms_list=[tree.DecisionTreeRegressor(max_depth=5, random_state=42) for i in range(50)]\n",
    "coefficients_list=[0.9 for i in range(50)]\n",
    "\n",
    "def gbm_predict(X):\n",
    "    return [sum([coeff * algo.predict([x])[0] for algo, coeff in zip(base_algorithms_list, coefficients_list)]) for x in X]"
   ]
  },
  {
   "cell_type": "code",
   "execution_count": 6,
   "metadata": {},
   "outputs": [
    {
     "name": "stdout",
     "output_type": "stream",
     "text": [
      "MSE на тестовой выборке: 5.141717949778777\n",
      "MSE на тестовой выборке: 5.124049626080035\n",
      "MSE на тестовой выборке: 5.241709344372247\n",
      "MSE на тестовой выборке: 5.327156719301596\n",
      "MSE на тестовой выборке: 5.443683344634833\n",
      "MSE на тестовой выборке: 5.483452482206295\n",
      "MSE на тестовой выборке: 5.499420907219651\n",
      "MSE на тестовой выборке: 5.444470529320642\n",
      "MSE на тестовой выборке: 5.46055063864994\n",
      "MSE на тестовой выборке: 5.457445023880429\n",
      "MSE на тестовой выборке: 5.4605077584473705\n",
      "MSE на тестовой выборке: 5.4358899991546945\n",
      "MSE на тестовой выборке: 5.429021196342293\n",
      "MSE на тестовой выборке: 5.492003306835773\n",
      "MSE на тестовой выборке: 5.483381945608195\n",
      "MSE на тестовой выборке: 5.463214301120151\n",
      "MSE на тестовой выборке: 5.461363250619963\n",
      "MSE на тестовой выборке: 5.472282089864403\n",
      "MSE на тестовой выборке: 5.442271584548418\n",
      "MSE на тестовой выборке: 5.454159056722474\n",
      "MSE на тестовой выборке: 5.455510181982884\n",
      "MSE на тестовой выборке: 5.461607177116226\n",
      "MSE на тестовой выборке: 5.467734887741132\n",
      "MSE на тестовой выборке: 5.465505124703577\n",
      "MSE на тестовой выборке: 5.462632274097744\n",
      "MSE на тестовой выборке: 5.464887141314815\n",
      "MSE на тестовой выборке: 5.4561889861084785\n",
      "MSE на тестовой выборке: 5.458493877862224\n",
      "MSE на тестовой выборке: 5.45874687989849\n",
      "MSE на тестовой выборке: 5.45906440239272\n",
      "MSE на тестовой выборке: 5.459177650799721\n",
      "MSE на тестовой выборке: 5.457539754487704\n",
      "MSE на тестовой выборке: 5.458601292084351\n",
      "MSE на тестовой выборке: 5.453516128096181\n",
      "MSE на тестовой выборке: 5.4536976089066975\n",
      "MSE на тестовой выборке: 5.453677467163981\n",
      "MSE на тестовой выборке: 5.453641762528918\n",
      "MSE на тестовой выборке: 5.4538182016518375\n",
      "MSE на тестовой выборке: 5.453635876996829\n",
      "MSE на тестовой выборке: 5.453496037740417\n",
      "MSE на тестовой выборке: 5.454734998720882\n",
      "MSE на тестовой выборке: 5.454980677898272\n",
      "MSE на тестовой выборке: 5.454973596251284\n",
      "MSE на тестовой выборке: 5.455287518090627\n",
      "MSE на тестовой выборке: 5.455596037974259\n",
      "MSE на тестовой выборке: 5.455715560316018\n",
      "MSE на тестовой выборке: 5.455420142287116\n",
      "MSE на тестовой выборке: 5.4552265749570905\n",
      "MSE на тестовой выборке: 5.455221764927308\n"
     ]
    }
   ],
   "source": [
    "base_algorithms_list  = []\n",
    "coefficients_list = []\n",
    "mean_sq_err=[]\n",
    "gbm_predict_lst=[]\n",
    "eta = 0.9\n",
    "\n",
    "a_0 = tree.DecisionTreeRegressor(max_depth=5 , random_state=42)\n",
    "a_0.fit(X_train, y_train)\n",
    "base_algorithms_list.append(a_0)\n",
    "coefficients_list.append(eta)\n",
    "s=0\n",
    "\n",
    "for k in range(49):\n",
    "    s = L(gbm_predict(X_train), y_train)\n",
    "    clf = tree.DecisionTreeRegressor(max_depth=5, random_state=42)\n",
    "    clf.fit(X_train, s)\n",
    "    base_algorithms_list.append(clf)\n",
    "    coefficients_list.append(eta)\n",
    "    m = (mean_squared_error(y_test, gbm_predict(X_test)))**0.5\n",
    "    mean_sq_err.append(m)\n",
    "    \n",
    "    print ('MSE на тестовой выборке:', m)"
   ]
  },
  {
   "cell_type": "markdown",
   "metadata": {},
   "source": [
    "## Задание 3\n",
    "\n",
    "Вас может также беспокоить, что двигаясь с постоянным шагом, вблизи минимума ошибки ответы на обучающей выборке меняются слишком резко, перескакивая через минимум. \n",
    "\n",
    "Попробуйте уменьшать вес перед каждым алгоритмом с каждой следующей итерацией по формуле `0.9 / (1.0 + i)`, где `i` - номер итерации (от 0 до 49). Используйте качество работы алгоритма как **ответ в пункте 3**. \n",
    "\n",
    "В реальности часто применяется следующая стратегия выбора шага: как только выбран алгоритм, подберем коэффициент перед ним численным методом оптимизации таким образом, чтобы отклонение от правильных ответов было минимальным. Мы не будем предлагать вам реализовать это для выполнения задания, но рекомендуем попробовать разобраться с такой стратегией и реализовать ее при случае для себя."
   ]
  },
  {
   "cell_type": "code",
   "execution_count": 7,
   "metadata": {},
   "outputs": [
    {
     "name": "stdout",
     "output_type": "stream",
     "text": [
      "MSE на тестовой выборке: 5.241033584774468\n"
     ]
    }
   ],
   "source": [
    "base_algorithms_list  = []\n",
    "coefficients_list = []\n",
    "mean_sq_err=[]\n",
    "gbm_predict_lst=[]\n",
    "eta = 0.9/(1.0 + 0)\n",
    "\n",
    "a_0 = tree.DecisionTreeRegressor(max_depth=5 , random_state=42)\n",
    "a_0.fit(X_train, y_train)\n",
    "base_algorithms_list.append(a_0)\n",
    "coefficients_list.append(eta)\n",
    "s=0\n",
    "\n",
    "for k in range(49):\n",
    "    s = L(gbm_predict(X_train), y_train)\n",
    "    clf = tree.DecisionTreeRegressor(max_depth=5, random_state=42)\n",
    "    clf.fit(X_train, s)\n",
    "    base_algorithms_list.append(clf)\n",
    "    coefficients_list.append((eta/(1.0 + (k+1))))\n",
    "    m2 = (mean_squared_error(y_test, gbm_predict(X_test)))**0.5\n",
    "    mean_sq_err.append(m2)\n",
    "    \n",
    "print ('MSE на тестовой выборке:', m2)"
   ]
  },
  {
   "cell_type": "markdown",
   "metadata": {},
   "source": [
    "## Задание 4\n",
    "\n",
    "Реализованный вами метод - градиентный бустинг над деревьями - очень популярен в машинном обучении. Он представлен как в самой библиотеке `sklearn`, так и в сторонней библиотеке `XGBoost`, которая имеет свой питоновский интерфейс. На практике `XGBoost` работает заметно лучше `GradientBoostingRegressor` из `sklearn`, но для этого задания вы можете использовать любую реализацию. \n",
    "\n",
    "Исследуйте, переобучается ли градиентный бустинг с ростом числа итераций (и подумайте, почему), а также с ростом глубины деревьев. На основе наблюдений выпишите через пробел номера правильных из приведенных ниже утверждений в порядке возрастания номера (это будет **ответ в п.4**):\n",
    "\n",
    "    1. С увеличением числа деревьев, начиная с некоторого момента, качество работы градиентного бустинга не меняется существенно.\n",
    "\n",
    "    2. С увеличением числа деревьев, начиная с некоторого момента, градиентный бустинг начинает переобучаться.\n",
    "\n",
    "    3. С ростом глубины деревьев, начиная с некоторого момента, качество работы градиентного бустинга на тестовой выборке начинает ухудшаться.\n",
    "\n",
    "    4. С ростом глубины деревьев, начиная с некоторого момента, качество работы градиентного бустинга перестает существенно изменяться"
   ]
  },
  {
   "cell_type": "code",
   "execution_count": 8,
   "metadata": {},
   "outputs": [
    {
     "data": {
      "text/plain": [
       "(1, 3)"
      ]
     },
     "execution_count": 8,
     "metadata": {},
     "output_type": "execute_result"
    }
   ],
   "source": [
    "1,3"
   ]
  },
  {
   "cell_type": "code",
   "execution_count": 9,
   "metadata": {},
   "outputs": [
    {
     "name": "stdout",
     "output_type": "stream",
     "text": [
      "MSE на тестовой выборке: 5.260381387672466\n"
     ]
    }
   ],
   "source": [
    "base_algorithms_list  = []\n",
    "coefficients_list = []\n",
    "mean_sq_err=[]\n",
    "gbm_predict_lst=[]\n",
    "eta = 0.9/(1.0 + 0)\n",
    "\n",
    "a_0 = tree.DecisionTreeRegressor(max_depth=5 , random_state=42)\n",
    "a_0.fit(X_train, y_train)\n",
    "base_algorithms_list.append(a_0)\n",
    "coefficients_list.append(eta)\n",
    "s=0\n",
    "\n",
    "for k in range(70):\n",
    "    s = L(gbm_predict(X_train), y_train)\n",
    "    clf = tree.DecisionTreeRegressor(max_depth=5, random_state=42)\n",
    "    clf.fit(X_train, s)\n",
    "    base_algorithms_list.append(clf)\n",
    "    coefficients_list.append((eta/(1.0 + (k+1))))\n",
    "    m2 = (mean_squared_error(y_test, gbm_predict(X_test)))**0.5\n",
    "    mean_sq_err.append(m2)\n",
    "print ('MSE на тестовой выборке:', m2)"
   ]
  },
  {
   "cell_type": "code",
   "execution_count": 10,
   "metadata": {},
   "outputs": [
    {
     "name": "stdout",
     "output_type": "stream",
     "text": [
      "MSE на тестовой выборке: 7.186720694832733\n"
     ]
    }
   ],
   "source": [
    "base_algorithms_list  = []\n",
    "coefficients_list = []\n",
    "mean_sq_err=[]\n",
    "gbm_predict_lst=[]\n",
    "eta = 0.9/(1.0 + 0)\n",
    "\n",
    "a_0 = tree.DecisionTreeRegressor(max_depth=15 , random_state=42)\n",
    "a_0.fit(X_train, y_train)\n",
    "base_algorithms_list.append(a_0)\n",
    "coefficients_list.append(eta)\n",
    "s=0\n",
    "\n",
    "for k in range(49):\n",
    "    s = L(gbm_predict(X_train), y_train)\n",
    "    clf = tree.DecisionTreeRegressor(max_depth=15, random_state=42)\n",
    "    clf.fit(X_train, s)\n",
    "    base_algorithms_list.append(clf)\n",
    "    coefficients_list.append((eta/(1.0 + (k+1))))\n",
    "    m2 = (mean_squared_error(y_test, gbm_predict(X_test)))**0.5\n",
    "    mean_sq_err.append(m2)\n",
    "print ('MSE на тестовой выборке:', m2)"
   ]
  },
  {
   "cell_type": "markdown",
   "metadata": {},
   "source": [
    "## Задание 5\n",
    "\n",
    "Сравните получаемое с помощью градиентного бустинга качество с качеством работы линейной регрессии. \n",
    "\n",
    "Для этого обучите `LinearRegression` из `sklearn.linear_model` (с параметрами по умолчанию) на обучающей выборке и оцените для прогнозов полученного алгоритма на тестовой выборке `RMSE`. Полученное качество - ответ в **пункте 5**. \n",
    "\n",
    "В данном примере качество работы простой модели должно было оказаться хуже, но не стоит забывать, что так бывает не всегда."
   ]
  },
  {
   "cell_type": "code",
   "execution_count": 11,
   "metadata": {},
   "outputs": [
    {
     "name": "stdout",
     "output_type": "stream",
     "text": [
      "RMSE на тестовой выборке с линейной регрессией: 7.819688142087171\n"
     ]
    }
   ],
   "source": [
    "linear_regressor = LinearRegression()\n",
    "linear_regressor.fit(X_train, y_train)\n",
    "m_linear = (mean_squared_error(y_test, linear_regressor.predict(X_test)))**0.5\n",
    "print ('RMSE на тестовой выборке с линейной регрессией:', m_linear)"
   ]
  }
 ],
 "metadata": {
  "kernelspec": {
   "display_name": "Python 3 (ipykernel)",
   "language": "python",
   "name": "python3"
  },
  "language_info": {
   "codemirror_mode": {
    "name": "ipython",
    "version": 3
   },
   "file_extension": ".py",
   "mimetype": "text/x-python",
   "name": "python",
   "nbconvert_exporter": "python",
   "pygments_lexer": "ipython3",
   "version": "3.9.13"
  }
 },
 "nbformat": 4,
 "nbformat_minor": 1
}
