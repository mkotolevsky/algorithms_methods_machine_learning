{
 "cells": [
  {
   "cell_type": "code",
   "execution_count": 106,
   "id": "53993927",
   "metadata": {},
   "outputs": [],
   "source": [
    "import pandas as pd\n",
    "import sklearn.metrics"
   ]
  },
  {
   "cell_type": "code",
   "execution_count": 107,
   "id": "d4712775",
   "metadata": {},
   "outputs": [
    {
     "name": "stdout",
     "output_type": "stream",
     "text": [
      "     true  pred\n",
      "0       1     0\n",
      "1       1     1\n",
      "2       1     1\n",
      "3       0     0\n",
      "4       1     1\n",
      "..    ...   ...\n",
      "195     0     0\n",
      "196     0     0\n",
      "197     1     0\n",
      "198     0     1\n",
      "199     0     0\n",
      "\n",
      "[200 rows x 2 columns]\n"
     ]
    }
   ],
   "source": [
    "data1 = pd.read_csv('classification.csv')\n",
    "print(data1)"
   ]
  },
  {
   "cell_type": "code",
   "execution_count": 108,
   "id": "707049d9",
   "metadata": {},
   "outputs": [
    {
     "data": {
      "text/plain": [
       "0"
      ]
     },
     "execution_count": 108,
     "metadata": {},
     "output_type": "execute_result"
    }
   ],
   "source": [
    "data1['true'][0]\n",
    "data1['pred'][0]"
   ]
  },
  {
   "cell_type": "code",
   "execution_count": 109,
   "id": "bb70da8c",
   "metadata": {},
   "outputs": [],
   "source": [
    "tp = 0\n",
    "fp = 0\n",
    "fn = 0\n",
    "tn = 0\n",
    "for i in range(0,len(data)):\n",
    "    if data1['true'][i] == 1 and data1['pred'][i] == 1: tp += 1\n",
    "    if data1['true'][i] == 0 and data1['pred'][i] == 0: tn += 1\n",
    "    if data1['true'][i] == 0 and data1['pred'][i] == 1: fp += 1\n",
    "    if data1['true'][i] == 1 and data1['pred'][i] == 0: fn += 1"
   ]
  },
  {
   "cell_type": "code",
   "execution_count": 110,
   "id": "05a2bc61",
   "metadata": {},
   "outputs": [
    {
     "data": {
      "text/plain": [
       "(43, 34, 59, 64)"
      ]
     },
     "execution_count": 110,
     "metadata": {},
     "output_type": "execute_result"
    }
   ],
   "source": [
    "tp,fp,fn,tn"
   ]
  },
  {
   "cell_type": "code",
   "execution_count": 111,
   "id": "6a821e5b",
   "metadata": {},
   "outputs": [
    {
     "data": {
      "text/plain": [
       "0.535"
      ]
     },
     "execution_count": 111,
     "metadata": {},
     "output_type": "execute_result"
    }
   ],
   "source": [
    "sklearn.metrics.accuracy_score(data1['true'], data1['pred'])"
   ]
  },
  {
   "cell_type": "code",
   "execution_count": 112,
   "id": "816817a7",
   "metadata": {},
   "outputs": [
    {
     "data": {
      "text/plain": [
       "0.5584415584415584"
      ]
     },
     "execution_count": 112,
     "metadata": {},
     "output_type": "execute_result"
    }
   ],
   "source": [
    "sklearn.metrics.precision_score(data1['true'], data1['pred'])"
   ]
  },
  {
   "cell_type": "code",
   "execution_count": 113,
   "id": "1a0f1dcf",
   "metadata": {},
   "outputs": [
    {
     "data": {
      "text/plain": [
       "0.4215686274509804"
      ]
     },
     "execution_count": 113,
     "metadata": {},
     "output_type": "execute_result"
    }
   ],
   "source": [
    "sklearn.metrics.recall_score(data1['true'], data1['pred'])"
   ]
  },
  {
   "cell_type": "code",
   "execution_count": 114,
   "id": "972fc2c5",
   "metadata": {},
   "outputs": [
    {
     "data": {
      "text/plain": [
       "0.48044692737430167"
      ]
     },
     "execution_count": 114,
     "metadata": {},
     "output_type": "execute_result"
    }
   ],
   "source": [
    "sklearn.metrics.f1_score(data1['true'], data1['pred'])"
   ]
  },
  {
   "cell_type": "code",
   "execution_count": 115,
   "id": "5ebc397d",
   "metadata": {},
   "outputs": [
    {
     "name": "stdout",
     "output_type": "stream",
     "text": [
      "              precision    recall  f1-score   support\n",
      "\n",
      "           0       0.52      0.65      0.58        98\n",
      "           1       0.56      0.42      0.48       102\n",
      "\n",
      "    accuracy                           0.54       200\n",
      "   macro avg       0.54      0.54      0.53       200\n",
      "weighted avg       0.54      0.54      0.53       200\n",
      "\n"
     ]
    }
   ],
   "source": [
    "print(sklearn.metrics.classification_report(data1['true'], \n",
    "                                            data1['pred']))"
   ]
  },
  {
   "cell_type": "code",
   "execution_count": 116,
   "id": "afc40f43",
   "metadata": {},
   "outputs": [
    {
     "name": "stdout",
     "output_type": "stream",
     "text": [
      "     true  score_logreg  score_svm  score_knn  score_tree\n",
      "0       0      0.683832   0.145976   0.787063    0.500000\n",
      "1       1      0.801966   0.239511   1.000000    0.833333\n",
      "2       0      0.382315  -0.245701   0.000000    0.000000\n",
      "3       1      0.506797  -0.137058   0.000000    0.105263\n",
      "4       1      0.488781  -0.154148   0.000000    0.105263\n",
      "..    ...           ...        ...        ...         ...\n",
      "195     0      0.573801  -0.088203   0.284192    0.400000\n",
      "196     0      0.624422  -0.012315   0.205437    0.400000\n",
      "197     1      0.425538  -0.135673   0.382351    0.700000\n",
      "198     0      0.905270   0.583806   1.000000    1.000000\n",
      "199     0      0.275594  -0.422160   0.743567    0.642857\n",
      "\n",
      "[200 rows x 5 columns]\n"
     ]
    }
   ],
   "source": [
    "data2 = pd.read_csv('scores.csv')\n",
    "print(data2)"
   ]
  },
  {
   "cell_type": "code",
   "execution_count": 117,
   "id": "7f8dae6b",
   "metadata": {},
   "outputs": [],
   "source": [
    "scores1 = {}\n",
    "for x in data2.columns[1:]:\n",
    "    scores1[x] = sklearn.metrics.roc_auc_score(data2['true'], data2[x])"
   ]
  },
  {
   "cell_type": "code",
   "execution_count": 118,
   "id": "251eadbb",
   "metadata": {},
   "outputs": [
    {
     "data": {
      "text/plain": [
       "{'score_logreg': 0.719187675070028,\n",
       " 'score_svm': 0.7086834733893557,\n",
       " 'score_knn': 0.6351540616246498,\n",
       " 'score_tree': 0.6919267707082833}"
      ]
     },
     "execution_count": 118,
     "metadata": {},
     "output_type": "execute_result"
    }
   ],
   "source": [
    "scores1"
   ]
  },
  {
   "cell_type": "code",
   "execution_count": 119,
   "id": "c7fa41fa",
   "metadata": {},
   "outputs": [
    {
     "data": {
      "text/plain": [
       "0.6919267707082833"
      ]
     },
     "execution_count": 119,
     "metadata": {},
     "output_type": "execute_result"
    }
   ],
   "source": [
    "scores1[x]"
   ]
  },
  {
   "cell_type": "code",
   "execution_count": 120,
   "id": "fdc9c10f",
   "metadata": {},
   "outputs": [
    {
     "name": "stdout",
     "output_type": "stream",
     "text": [
      "0.6517857142857143\n"
     ]
    }
   ],
   "source": [
    "scores2 = {}\n",
    "for x in data2.columns[1:]:\n",
    "    curve = sklearn.metrics.precision_recall_curve(data2['true'], data2[x])\n",
    "    df = pd.DataFrame({'precision': curve[0], 'recall': curve[1]})\n",
    "    scores2[x] = df[df['recall'] >= 0.7]['precision'].max()\n",
    "print(scores2[x])"
   ]
  }
 ],
 "metadata": {
  "kernelspec": {
   "display_name": "Python 3 (ipykernel)",
   "language": "python",
   "name": "python3"
  },
  "language_info": {
   "codemirror_mode": {
    "name": "ipython",
    "version": 3
   },
   "file_extension": ".py",
   "mimetype": "text/x-python",
   "name": "python",
   "nbconvert_exporter": "python",
   "pygments_lexer": "ipython3",
   "version": "3.9.13"
  }
 },
 "nbformat": 4,
 "nbformat_minor": 5
}
